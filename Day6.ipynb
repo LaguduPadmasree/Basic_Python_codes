{
  "nbformat": 4,
  "nbformat_minor": 0,
  "metadata": {
    "colab": {
      "provenance": [],
      "authorship_tag": "ABX9TyN6ZAegaE9/9ok7P8LFzslt",
      "include_colab_link": true
    },
    "kernelspec": {
      "name": "python3",
      "display_name": "Python 3"
    },
    "language_info": {
      "name": "python"
    }
  },
  "cells": [
    {
      "cell_type": "markdown",
      "metadata": {
        "id": "view-in-github",
        "colab_type": "text"
      },
      "source": [
        "<a href=\"https://colab.research.google.com/github/LaguduPadmasree/Basic_Python_codes/blob/main/Day6.ipynb\" target=\"_parent\"><img src=\"https://colab.research.google.com/assets/colab-badge.svg\" alt=\"Open In Colab\"/></a>"
      ]
    },
    {
      "cell_type": "markdown",
      "source": [
        "#DectoNBase\n",
        "\n",
        "**Input:**\n",
        "\n",
        "n:12\n",
        "\n",
        "num:718\n",
        "\n",
        "**Output:**\n",
        "\n",
        "4BA\n",
        "\n",
        "**Explaination:**\n",
        "\n",
        "num=718,division=12,\n",
        "\n",
        "qoutient=59,remainder=10(A),\n",
        "\n",
        "num=59,divisor=12,quotient=0,\n",
        "\n",
        "remainder=4(4)"
      ],
      "metadata": {
        "id": "888mN-nMd0Zc"
      }
    },
    {
      "cell_type": "code",
      "source": [
        "def DectoNBase(n, num):\n",
        "    symbols = \"0123456789ABCDEFGHIJKLMNOPQRSTUVWXYZ\"\n",
        "    result = []\n",
        "    if num == 0:\n",
        "        return \"0\"\n",
        "    while num > 0:\n",
        "        remainder = num % n\n",
        "        result.append(symbols[remainder])\n",
        "        num //= n\n",
        "    result.reverse()\n",
        "    return \"\".join(result)\n",
        "\n",
        "n = 12\n",
        "num = 718\n",
        "print(DectoNBase(n, num))"
      ],
      "metadata": {
        "id": "5LRnAujifWeM",
        "colab": {
          "base_uri": "https://localhost:8080/"
        },
        "outputId": "2a564d2a-3e08-4a60-edb2-f041dd0ae0a5"
      },
      "execution_count": null,
      "outputs": [
        {
          "output_type": "stream",
          "name": "stdout",
          "text": [
            "4BA\n"
          ]
        }
      ]
    },
    {
      "cell_type": "markdown",
      "source": [
        "#Matrix Even Odd:\n",
        "**Example:**\n",
        "\n",
        "Enter the size of array:5\n",
        "\n",
        "Enter the element at 0 index:3\n",
        "\n",
        "Enter the element at 1 index:4\n",
        "\n",
        "Enter the element at 2 index:1\n",
        "\n",
        "Enter the element at 3 index:7\n",
        "\n",
        "Enter the element at 4 index:9\n",
        "\n",
        "sorted even array:139\n",
        "\n",
        "sorted odd array:47\n",
        "\n",
        "sum:7"
      ],
      "metadata": {
        "id": "qdy8oLgWg97e"
      }
    },
    {
      "cell_type": "code",
      "source": [
        "arr = []\n",
        "even_arr = []\n",
        "odd_arr = []\n",
        "n = int(input())\n",
        "\n",
        "for i in range(0, n):\n",
        "    num = int(input(\"Enter the element: \"))\n",
        "    arr.append(num)  # Append to the correct list 'arr'\n",
        "    if num % 2 == 0:  # Check if the number is even\n",
        "        even_arr.append(arr[i])\n",
        "    else:\n",
        "        odd_arr.append(arr[i])\n",
        "\n",
        "even_arr = sorted(even_arr)\n",
        "print(even_arr)\n",
        "odd_arr = sorted(odd_arr)\n",
        "print(odd_arr)\n",
        "\n",
        "# Check if lists have enough elements before accessing [-2]\n",
        "if len(even_arr) >= 2 and len(odd_arr) >= 2:\n",
        "    print(even_arr[-2] + odd_arr[-2])\n",
        "else:\n",
        "    print(\"Not enough even or odd numbers to perform the calculation.\")\n"
      ],
      "metadata": {
        "collapsed": true,
        "id": "doZoZHAghwLJ",
        "colab": {
          "base_uri": "https://localhost:8080/"
        },
        "outputId": "c619638e-c0bc-4b30-983f-4ad54a48a3e8"
      },
      "execution_count": null,
      "outputs": [
        {
          "output_type": "stream",
          "name": "stdout",
          "text": [
            "5\n",
            "Enter the element: 3\n",
            "Enter the element: 4\n",
            "Enter the element: 1\n",
            "Enter the element: 7\n",
            "Enter the element: 9\n",
            "[4]\n",
            "[1, 3, 7, 9]\n",
            "Not enough even or odd numbers to perform the calculation.\n"
          ]
        }
      ]
    },
    {
      "cell_type": "markdown",
      "source": [
        "#Maths is fun:\n",
        "#Divisible by 3 and 5:\n",
        "**Input:**\n",
        "\n",
        "m=12\n",
        "\n",
        "n=50\n",
        "\n",
        "**Output:**\n",
        "\n",
        "90\n",
        "\n",
        "**Explaination:**\n",
        "\n",
        "The numbers is divisible by both 3&5, between 12&50 both inclusive are(15,30,45) and their sum is 90"
      ],
      "metadata": {
        "id": "Md826oOOjlvO"
      }
    },
    {
      "cell_type": "code",
      "source": [
        "n=int(input())\n",
        "m=int(input())\n",
        "def calculate(n,m):\n",
        "    sum=0\n",
        "    for i in range(n,m+1):\n",
        "        if i%3==0 and i%5==0:\n",
        "            sum+=i\n",
        "    print(sum)\n",
        "calculate(n,m)"
      ],
      "metadata": {
        "colab": {
          "base_uri": "https://localhost:8080/"
        },
        "id": "0tuGO1o_kUf2",
        "outputId": "d895de79-0a48-4db1-a22b-3f8571e2fdd3"
      },
      "execution_count": null,
      "outputs": [
        {
          "output_type": "stream",
          "name": "stdout",
          "text": [
            "12\n",
            "50\n",
            "90\n"
          ]
        }
      ]
    },
    {
      "cell_type": "markdown",
      "source": [
        "**Write a program to find the length of the longest common subsequence between two strings**\n",
        "\n",
        "Input:\n",
        "\n",
        "padma\n",
        "\n",
        "padma\n",
        "\n",
        "output:\n",
        "\n",
        "5\n",
        "\n"
      ],
      "metadata": {
        "id": "gXg7PRKhl6yi"
      }
    },
    {
      "cell_type": "code",
      "source": [],
      "metadata": {
        "id": "LIRah55fmj6D"
      },
      "execution_count": null,
      "outputs": []
    },
    {
      "cell_type": "code",
      "source": [
        "def lcs(s1,s2):\n",
        "  res=[]\n",
        "  for i in s1:\n",
        "    if i in s2:\n",
        "      res.append(i)\n",
        "  res=set(res)\n",
        "  return len(res)\n",
        "s1=input()\n",
        "s2=input()\n",
        "print(lcs(s1,s2))"
      ],
      "metadata": {
        "colab": {
          "base_uri": "https://localhost:8080/"
        },
        "id": "EfTnbEJvma0V",
        "outputId": "bf41a6d0-5a84-4f42-f3d2-a704803a24b8"
      },
      "execution_count": null,
      "outputs": [
        {
          "output_type": "stream",
          "name": "stdout",
          "text": [
            "length\n",
            "length\n",
            "6\n"
          ]
        }
      ]
    }
  ]
}
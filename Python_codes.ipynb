{
  "nbformat": 4,
  "nbformat_minor": 0,
  "metadata": {
    "colab": {
      "provenance": [],
      "authorship_tag": "ABX9TyMaWmwJP03gMRMZgv+zZS1v",
      "include_colab_link": true
    },
    "kernelspec": {
      "name": "python3",
      "display_name": "Python 3"
    },
    "language_info": {
      "name": "python"
    }
  },
  "cells": [
    {
      "cell_type": "markdown",
      "metadata": {
        "id": "view-in-github",
        "colab_type": "text"
      },
      "source": [
        "<a href=\"https://colab.research.google.com/github/LaguduPadmasree/Basic_Python_codes/blob/main/Python_codes.ipynb\" target=\"_parent\"><img src=\"https://colab.research.google.com/assets/colab-badge.svg\" alt=\"Open In Colab\"/></a>"
      ]
    },
    {
      "cell_type": "markdown",
      "source": [
        "#Automorphic Number"
      ],
      "metadata": {
        "id": "8i2W9yVRxFym"
      }
    },
    {
      "cell_type": "code",
      "source": [
        "n=int(input())\n",
        "m=n*n\n",
        "num=m%10\n",
        "if num==n:\n",
        "   print(\"Automorphic\")\n",
        "else:\n",
        "   print(\"Not Automorphic\")"
      ],
      "metadata": {
        "colab": {
          "base_uri": "https://localhost:8080/"
        },
        "id": "U7ugqQY9xKd0",
        "outputId": "677ba816-1048-4461-f54f-f67fb9757c1e"
      },
      "execution_count": null,
      "outputs": [
        {
          "output_type": "stream",
          "name": "stdout",
          "text": [
            "5\n",
            "Automorphic\n"
          ]
        }
      ]
    },
    {
      "cell_type": "markdown",
      "source": [
        "#Abundant Numbers"
      ],
      "metadata": {
        "id": "ulS3WL2SytO2"
      }
    },
    {
      "cell_type": "code",
      "source": [
        "n=int(input())\n",
        "sum=0\n",
        "for i in range(1,n):\n",
        "    if n%i==0:\n",
        "        sum=sum+i\n",
        "if sum>n:\n",
        "    print(\"abundant\")"
      ],
      "metadata": {
        "colab": {
          "base_uri": "https://localhost:8080/"
        },
        "id": "-BFQtfdUyoP2",
        "outputId": "50a9e63a-2779-48d2-ddcb-d62ce651eae4"
      },
      "execution_count": null,
      "outputs": [
        {
          "output_type": "stream",
          "name": "stdout",
          "text": [
            "12\n",
            "abundant\n"
          ]
        }
      ]
    },
    {
      "cell_type": "markdown",
      "source": [
        "#Harshad Number"
      ],
      "metadata": {
        "id": "-9HaB6s31LtW"
      }
    },
    {
      "cell_type": "code",
      "source": [
        "n=int(input())\n",
        "sum=0\n",
        "while (n>0):\n",
        "    rem=n%10\n",
        "    sum=sum+rem\n",
        "    n=n//10\n",
        "if n%sum==0:\n",
        "   print(\"Yes\")\n",
        "else:\n",
        "   print(\"No\")"
      ],
      "metadata": {
        "colab": {
          "base_uri": "https://localhost:8080/"
        },
        "id": "yA8OOof_4TAY",
        "outputId": "8c68d5c8-b59e-414d-d20f-74bf949b3f55"
      },
      "execution_count": null,
      "outputs": [
        {
          "output_type": "stream",
          "name": "stdout",
          "text": [
            "21\n",
            "Yes\n"
          ]
        }
      ]
    },
    {
      "cell_type": "markdown",
      "source": [
        "# Friendly Pair"
      ],
      "metadata": {
        "id": "Kez7x2NL43wl"
      }
    },
    {
      "cell_type": "code",
      "source": [
        "n1=int(input())\n",
        "n2=int(input())\n",
        "sum1=0\n",
        "sum2=0\n",
        "for i in range(1,n1):\n",
        "   if n1%i==0:\n",
        "      sum1=sum1+i\n",
        "for j in range(1,n2):\n",
        "   if n2%j==0:\n",
        "      sum2=sum2+j\n",
        "if sum1//n1==sum2//n2:\n",
        "      print(\"Friendly Pair\")\n",
        "else:\n",
        "      print(\"Not friendly pair\")"
      ],
      "metadata": {
        "colab": {
          "base_uri": "https://localhost:8080/"
        },
        "id": "mX4KV9hP6pKE",
        "outputId": "fff9211b-d771-4ec0-a5bb-b5af47752bf4"
      },
      "execution_count": null,
      "outputs": [
        {
          "output_type": "stream",
          "name": "stdout",
          "text": [
            "6\n",
            "28\n",
            "Friendly Pair\n"
          ]
        }
      ]
    },
    {
      "cell_type": "markdown",
      "source": [
        "#Perfect Square"
      ],
      "metadata": {
        "id": "mhTKiPo39A4w"
      }
    },
    {
      "cell_type": "code",
      "source": [
        "n=int(input())\n",
        "for i in range(n):\n",
        "    if i*i==n:\n",
        "        print(\"perfect square\")"
      ],
      "metadata": {
        "colab": {
          "base_uri": "https://localhost:8080/"
        },
        "id": "uMtpwVMZ92KJ",
        "outputId": "5ebafda7-5077-4250-ed0e-9b1c8f652b39"
      },
      "execution_count": null,
      "outputs": [
        {
          "output_type": "stream",
          "name": "stdout",
          "text": [
            "25\n",
            "perfect square\n"
          ]
        }
      ]
    }
  ]
}
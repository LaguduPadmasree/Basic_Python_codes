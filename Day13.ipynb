{
  "nbformat": 4,
  "nbformat_minor": 0,
  "metadata": {
    "colab": {
      "provenance": [],
      "authorship_tag": "ABX9TyNGmY9ei6EdWCuja5PfLzcz",
      "include_colab_link": true
    },
    "kernelspec": {
      "name": "python3",
      "display_name": "Python 3"
    },
    "language_info": {
      "name": "python"
    }
  },
  "cells": [
    {
      "cell_type": "markdown",
      "metadata": {
        "id": "view-in-github",
        "colab_type": "text"
      },
      "source": [
        "<a href=\"https://colab.research.google.com/github/LaguduPadmasree/Basic_Python_codes/blob/main/Day13.ipynb\" target=\"_parent\"><img src=\"https://colab.research.google.com/assets/colab-badge.svg\" alt=\"Open In Colab\"/></a>"
      ]
    },
    {
      "cell_type": "markdown",
      "source": [
        "#Matrix Operations:\n",
        " You are tasked with a complex matrix operation.You need to input the size of the matrix and then provide the elements of the matrix.\n",
        "\n",
        " The main matrix must then be divided into two submatrices :one for even-indexed elements and the other for odd-indexed elements.\n",
        "\n",
        " Following this , You are required to sort both the even and odd matrices in ascending order.\n",
        "\n",
        " Finally, You must caluculate and print the sum of the second largest numbers from both matrices.\n",
        "\n",
        "**Examples:**\n",
        "* Enter the size of an array: 5\n",
        "* Enter the element at 0th index:3\n",
        "* Enter the element at 1th index:4\n",
        "* Enter the element at 2th index:1\n",
        "* Enter the element at 3th index:7\n",
        "* Enter the element at 4th index:9\n",
        "\n",
        "**After sorting:**\n",
        "* Sorted odd array:1 3 9    [these are index values]\n",
        "* Sorted odd array:4 7     \n",
        "\n",
        "The sum of the second largest numbers from both matrices is 7"
      ],
      "metadata": {
        "id": "nJ31b8MN6aAn"
      }
    },
    {
      "cell_type": "code",
      "execution_count": null,
      "metadata": {
        "colab": {
          "base_uri": "https://localhost:8080/"
        },
        "id": "asScvW4h5ElI",
        "outputId": "6ca767d2-f2ce-443c-b7cc-88029b9a217c"
      },
      "outputs": [
        {
          "output_type": "stream",
          "name": "stdout",
          "text": [
            "enter a size of array:5\n",
            "enter a element at 0index:3\n",
            "enter a element at 1index:4\n",
            "enter a element at 2index:1\n",
            "enter a element at 3index:7\n",
            "enter a element at 4index:9\n",
            "sorted evenArr: [1, 3, 9]\n",
            "sorted oddArr: [4, 7]\n",
            "sum of second largest elements: 7\n"
          ]
        }
      ],
      "source": [
        "array = []\n",
        "evenArr = []\n",
        "oddArr = []\n",
        "\n",
        "n = int(input(\"enter a size of array:\"))\n",
        "for i in range (0,n):\n",
        "    number = int(input(\"enter a element at {}index:\".format(i)))\n",
        "    array.append(number)\n",
        "    if i % 2 == 0:\n",
        "        evenArr.append(array[i])\n",
        "    else:\n",
        "         oddArr.append(array[i])\n",
        "\n",
        "evenArr = sorted(evenArr)\n",
        "print(\"sorted evenArr:\",evenArr[0:len(evenArr)])\n",
        "oddArr = sorted(oddArr)\n",
        "print(\"sorted oddArr:\",oddArr[0:len(oddArr)])\n",
        "\n",
        "print (\"sum of second largest elements:\",evenArr[-2] + oddArr[-2])\n",
        "\n"
      ]
    },
    {
      "cell_type": "markdown",
      "source": [
        "#Check Password:\n",
        "\n",
        "You are given a function,**int CheckPassword(char str[],int n);**\n",
        "\n",
        "The function accepts string of size n as an arguement. Implement the function which returns 1 if given string str is valid password else0.str is a valid password if it satisifies the below conditions.\n",
        "\n",
        "* At least 4 characters\n",
        "* At least one numeric digit\n",
        "* At Least one capital letter\n",
        "* Must not have space or slash(/)\n",
        "* Starting character must not be a number\n",
        "\n",
        "**Assumption:**\n",
        "\n",
        "* Input string will not be empty\n",
        "\n",
        "**Examples:**\n",
        "\n",
        "**Input Values:**                            \n",
        "* aA1_67\n",
        "*a987aBc012\n",
        "\n",
        "**Output Values:**\n",
        "* 1\n",
        "* 0"
      ],
      "metadata": {
        "id": "ZjJmD2CHIljs"
      }
    },
    {
      "cell_type": "code",
      "source": [
        "def CheckPassword(s,n):\n",
        "  if n<4:\n",
        "    return 0\n",
        "  if s[0].isdigit():\n",
        "    return 0\n",
        "  cap=0\n",
        "  num=0\n",
        "  for i in range(n):\n",
        "    if s[i]==' ' or s[i]=='/':\n",
        "      return 0\n",
        "    if s[i]>='A' and s[i]<='Z':\n",
        "      cap+=1\n",
        "    elif s[i].isdigit():\n",
        "      num+=1\n",
        "  if cap>0 and num>0:\n",
        "    return 1\n",
        "  else:\n",
        "    return 0\n",
        "s = input(\"enter a string:\")\n",
        "a=len(s)\n",
        "print(CheckPassword(s,n))"
      ],
      "metadata": {
        "colab": {
          "base_uri": "https://localhost:8080/"
        },
        "id": "Dgc04QdzMN1_",
        "outputId": "b86376b3-dc96-4c84-f639-47d6d1470181"
      },
      "execution_count": null,
      "outputs": [
        {
          "output_type": "stream",
          "name": "stdout",
          "text": [
            "enter a string:aA1_67\n",
            "1\n"
          ]
        }
      ]
    }
  ]
}
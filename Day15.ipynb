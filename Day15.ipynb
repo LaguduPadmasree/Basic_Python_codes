{
  "nbformat": 4,
  "nbformat_minor": 0,
  "metadata": {
    "colab": {
      "provenance": [],
      "authorship_tag": "ABX9TyPQIwKdo0MZnxNeRJukDaug",
      "include_colab_link": true
    },
    "kernelspec": {
      "name": "python3",
      "display_name": "Python 3"
    },
    "language_info": {
      "name": "python"
    }
  },
  "cells": [
    {
      "cell_type": "markdown",
      "metadata": {
        "id": "view-in-github",
        "colab_type": "text"
      },
      "source": [
        "<a href=\"https://colab.research.google.com/github/LaguduPadmasree/Basic_Python_codes/blob/main/Day15.ipynb\" target=\"_parent\"><img src=\"https://colab.research.google.com/assets/colab-badge.svg\" alt=\"Open In Colab\"/></a>"
      ]
    },
    {
      "cell_type": "markdown",
      "source": [
        "#Rock, Paper,Scissor:\n",
        "\n",
        "Two players A&B are playing the game of Rock,Paper,Scissors.Player A choose a move represented by a string value M;representing the winning move for player B and the move can be one of the following  'rock', 'paper', 'scissor' where,\n",
        "* rock beats scissors\n",
        "* scissors beats papers\n",
        "* paper beats rock\n",
        "\n",
        "Your task is to find and return a str value represnting the wiinning move for player B\n",
        "\n",
        "**Note:**\n",
        "\n",
        "The output is case sentive\n",
        "\n",
        "**Input:**\n",
        "\n",
        "A string value M representing the move choosen by Player A\n",
        "\n",
        "**Output:**\n",
        "\n",
        "paper"
      ],
      "metadata": {
        "id": "GSg6bw-ta64S"
      }
    },
    {
      "cell_type": "code",
      "source": [
        "def find_winning(M):\n",
        "  if M == 'rock':\n",
        "    return 'paper'\n",
        "  elif M == 'paper':\n",
        "    return 'scissor'\n",
        "  elif M == 'scissor':\n",
        "    return 'rock'\n",
        "  else:\n",
        "    return 'invalid move'\n",
        "M = 'rock'\n",
        "print(find_winning(M))"
      ],
      "metadata": {
        "colab": {
          "base_uri": "https://localhost:8080/"
        },
        "id": "-zBmdqMpa3Mw",
        "outputId": "1d83fd15-1275-406a-af87-428aecc4a3bc"
      },
      "execution_count": null,
      "outputs": [
        {
          "output_type": "stream",
          "name": "stdout",
          "text": [
            "paper\n"
          ]
        }
      ]
    },
    {
      "cell_type": "markdown",
      "source": [
        "#Longest Common Sunsequence Number:\n",
        "\n",
        "Write a program to find the length of the longest common subsequence between two strings"
      ],
      "metadata": {
        "id": "QxHJU63tiT4D"
      }
    },
    {
      "cell_type": "code",
      "source": [
        "def lcs(s1,s2):\n",
        "  res=[]\n",
        "  for i in s1:\n",
        "    if i in s2:\n",
        "      res.append(i)\n",
        "    res=set(res)\n",
        "    return len(res)\n",
        "s1=input()\n",
        "s2=input()\n",
        "print(lcs(s1,s2))"
      ],
      "metadata": {
        "colab": {
          "base_uri": "https://localhost:8080/"
        },
        "id": "_Y8IIc_JitGB",
        "outputId": "4f572203-f586-49cd-ce2f-3258d20e5973"
      },
      "execution_count": null,
      "outputs": [
        {
          "output_type": "stream",
          "name": "stdout",
          "text": [
            "PADMA\n",
            "PADMA\n",
            "1\n"
          ]
        }
      ]
    }
  ]
}
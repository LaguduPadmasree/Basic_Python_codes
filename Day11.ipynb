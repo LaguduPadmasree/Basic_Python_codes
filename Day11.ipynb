{
  "nbformat": 4,
  "nbformat_minor": 0,
  "metadata": {
    "colab": {
      "provenance": [],
      "authorship_tag": "ABX9TyMlfiLk1iowq7V9B2uCdRmV",
      "include_colab_link": true
    },
    "kernelspec": {
      "name": "python3",
      "display_name": "Python 3"
    },
    "language_info": {
      "name": "python"
    }
  },
  "cells": [
    {
      "cell_type": "markdown",
      "metadata": {
        "id": "view-in-github",
        "colab_type": "text"
      },
      "source": [
        "<a href=\"https://colab.research.google.com/github/LaguduPadmasree/Basic_Python_codes/blob/main/Day11.ipynb\" target=\"_parent\"><img src=\"https://colab.research.google.com/assets/colab-badge.svg\" alt=\"Open In Colab\"/></a>"
      ]
    },
    {
      "cell_type": "markdown",
      "source": [
        "**Star Patterns:**"
      ],
      "metadata": {
        "id": "JXgImoEWvTuC"
      }
    },
    {
      "cell_type": "code",
      "execution_count": null,
      "metadata": {
        "colab": {
          "base_uri": "https://localhost:8080/"
        },
        "id": "DgTWutCtr5Ln",
        "outputId": "a80eb2f5-7ce2-4b39-bb41-64066484a16c"
      },
      "outputs": [
        {
          "output_type": "stream",
          "name": "stdout",
          "text": [
            "     \n",
            "    * \n",
            "   * * \n",
            "  * * * \n",
            " * * * * \n"
          ]
        }
      ],
      "source": [
        "for i in range(5):\n",
        "  for  k in range(5-i):\n",
        "    print(\"\",end=\" \")\n",
        "  for j in range(i):\n",
        "    print(\"*\",end=\" \")\n",
        "  print(end=\"\\n\")"
      ]
    },
    {
      "cell_type": "markdown",
      "source": [
        "**Numeric Patterns:**"
      ],
      "metadata": {
        "id": "NVygYCMvDUZ4"
      }
    },
    {
      "cell_type": "code",
      "source": [
        "n=5\n",
        "p=1\n",
        "for i in range(n):\n",
        "  for j in range(i+1):\n",
        "    print(p,end=\" \")\n",
        "    p+=1\n",
        "  print()"
      ],
      "metadata": {
        "colab": {
          "base_uri": "https://localhost:8080/"
        },
        "id": "_uwGSXcowz4j",
        "outputId": "7e3ad5e2-a7a4-4e31-cdf4-c525af350a9a"
      },
      "execution_count": null,
      "outputs": [
        {
          "output_type": "stream",
          "name": "stdout",
          "text": [
            "1 \n",
            "2 3 \n",
            "4 5 6 \n",
            "7 8 9 10 \n",
            "11 12 13 14 15 \n"
          ]
        }
      ]
    },
    {
      "cell_type": "markdown",
      "source": [
        "**Prime Numbers:**"
      ],
      "metadata": {
        "id": "VRY17JwUy37y"
      }
    },
    {
      "cell_type": "code",
      "source": [
        "number=7\n",
        "for i in range(2,10):\n",
        "  if number%i==0:\n",
        "    print(\"Not Prime Number\")\n",
        "    break\n",
        "  else:\n",
        "    print(\"Prime Number\")\n",
        "    break"
      ],
      "metadata": {
        "colab": {
          "base_uri": "https://localhost:8080/"
        },
        "id": "dHU2bYYhy77H",
        "outputId": "eabaa331-8600-4a1c-bfce-67b88547d053"
      },
      "execution_count": null,
      "outputs": [
        {
          "output_type": "stream",
          "name": "stdout",
          "text": [
            "Prime Number\n"
          ]
        }
      ]
    },
    {
      "cell_type": "markdown",
      "source": [
        "**Print all digits of a number on different lines:**\n",
        "\n",
        "268%10 =Remainder(26.8)=8\n",
        "\n",
        "268//10=Quotient(26.8)=26"
      ],
      "metadata": {
        "id": "F3glF_S-4t5Y"
      }
    },
    {
      "cell_type": "code",
      "source": [
        "n = 268\n",
        "m=n\n",
        "while m!=0:\n",
        "  d = m%10\n",
        "  print(d)\n",
        "  m=m//10\n",
        "  print(m)\n"
      ],
      "metadata": {
        "colab": {
          "base_uri": "https://localhost:8080/"
        },
        "id": "evJxf5031nQm",
        "outputId": "38e5ce99-c931-49b7-d721-e9dfb5d4f617"
      },
      "execution_count": null,
      "outputs": [
        {
          "output_type": "stream",
          "name": "stdout",
          "text": [
            "8\n",
            "26\n",
            "6\n",
            "2\n",
            "2\n",
            "0\n"
          ]
        }
      ]
    },
    {
      "cell_type": "markdown",
      "source": [
        "**Check If a number is Palindrome or Not:**"
      ],
      "metadata": {
        "id": "_AksSoOu6tGW"
      }
    },
    {
      "cell_type": "code",
      "source": [
        "n=121\n",
        "m=n\n",
        "sum=0\n",
        "while m!=0:\n",
        "  d=m%10\n",
        "  sum = sum*10+d\n",
        "  m=m//10\n",
        "if sum == n:\n",
        "    print(\"Yes\")\n",
        "else:\n",
        "    print(\"No\")\n"
      ],
      "metadata": {
        "colab": {
          "base_uri": "https://localhost:8080/"
        },
        "id": "ZZRbJ9_j6sZ4",
        "outputId": "ec5e2d79-ece8-4f19-b1ed-291d55b92961"
      },
      "execution_count": null,
      "outputs": [
        {
          "output_type": "stream",
          "name": "stdout",
          "text": [
            "Yes\n"
          ]
        }
      ]
    },
    {
      "cell_type": "markdown",
      "source": [
        "**Spy Number:**\n",
        "\n",
        "123=> 1+2+3 =1*2*3 = 6"
      ],
      "metadata": {
        "id": "oDsnP0Qm-tDq"
      }
    },
    {
      "cell_type": "code",
      "source": [
        "n=123\n",
        "m=n\n",
        "sum = 0\n",
        "prod = 1\n",
        "while m!=0:\n",
        "  d=m%10\n",
        "  sum = sum+d;\n",
        "  prod = prod*d;\n",
        "  m = m//10\n",
        "if(sum==prod):\n",
        "  print(\"yes\")\n",
        "else:\n",
        "  print(\"no\")"
      ],
      "metadata": {
        "colab": {
          "base_uri": "https://localhost:8080/"
        },
        "id": "IicJGbwYAFpF",
        "outputId": "de8da84b-39fe-4dc7-d07f-d39d95752fda"
      },
      "execution_count": null,
      "outputs": [
        {
          "output_type": "stream",
          "name": "stdout",
          "text": [
            "yes\n"
          ]
        }
      ]
    },
    {
      "cell_type": "markdown",
      "source": [
        "**Harshad/Niven Number:**\n",
        "\n",
        "156=> 1+5+6 = 12"
      ],
      "metadata": {
        "id": "hsf_Wk3vB1Xo"
      }
    },
    {
      "cell_type": "code",
      "source": [
        "n=156\n",
        "m=n\n",
        "sum=0\n",
        "while m!=0:\n",
        "  d=m%10\n",
        "  sum = sum+d\n",
        "  m=m//10\n",
        "if m%sum==0:\n",
        "  print(\"yes\")\n",
        "else:\n",
        "  print(\"no\")\n"
      ],
      "metadata": {
        "colab": {
          "base_uri": "https://localhost:8080/"
        },
        "id": "v8nl2K5XCWGU",
        "outputId": "6f475974-a230-42a9-94f1-b2f287e59121"
      },
      "execution_count": null,
      "outputs": [
        {
          "output_type": "stream",
          "name": "stdout",
          "text": [
            "yes\n"
          ]
        }
      ]
    }
  ]
}
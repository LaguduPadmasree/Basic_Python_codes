{
  "nbformat": 4,
  "nbformat_minor": 0,
  "metadata": {
    "colab": {
      "provenance": [],
      "authorship_tag": "ABX9TyOoIy27s2PMZkF6NMAIqVNp",
      "include_colab_link": true
    },
    "kernelspec": {
      "name": "python3",
      "display_name": "Python 3"
    },
    "language_info": {
      "name": "python"
    }
  },
  "cells": [
    {
      "cell_type": "markdown",
      "metadata": {
        "id": "view-in-github",
        "colab_type": "text"
      },
      "source": [
        "<a href=\"https://colab.research.google.com/github/LaguduPadmasree/Basic_Python_codes/blob/main/Day10.ipynb\" target=\"_parent\"><img src=\"https://colab.research.google.com/assets/colab-badge.svg\" alt=\"Open In Colab\"/></a>"
      ]
    },
    {
      "cell_type": "markdown",
      "source": [
        "**To Print Calendar**"
      ],
      "metadata": {
        "id": "gt3_z6K5ntNj"
      }
    },
    {
      "cell_type": "code",
      "execution_count": null,
      "metadata": {
        "colab": {
          "base_uri": "https://localhost:8080/"
        },
        "id": "CGwLP5o7nscp",
        "outputId": "e989711f-f053-4f7f-aa14-2da54083a3cf"
      },
      "outputs": [
        {
          "output_type": "stream",
          "name": "stdout",
          "text": [
            "2024\n",
            "12\n",
            "   December 2024\n",
            "Mo Tu We Th Fr Sa Su\n",
            "                   1\n",
            " 2  3  4  5  6  7  8\n",
            " 9 10 11 12 13 14 15\n",
            "16 17 18 19 20 21 22\n",
            "23 24 25 26 27 28 29\n",
            "30 31\n",
            "\n"
          ]
        }
      ],
      "source": [
        "import calendar\n",
        "year=int(input())\n",
        "month=int(input())\n",
        "mycal=calendar.month(year,month)\n",
        "print(mycal)"
      ]
    },
    {
      "cell_type": "markdown",
      "source": [
        "**To convert Celsius into Fahrenheit:**"
      ],
      "metadata": {
        "id": "B627xumDoYb0"
      }
    },
    {
      "cell_type": "code",
      "source": [
        "celsius=float(input())\n",
        "fahreinheit=(celsius*1.8)+32\n",
        "print(fahreinheit)"
      ],
      "metadata": {
        "colab": {
          "base_uri": "https://localhost:8080/"
        },
        "id": "6GVcUtU5ohpZ",
        "outputId": "ed9f5384-03ec-4637-a4a9-217ec6350385"
      },
      "execution_count": null,
      "outputs": [
        {
          "output_type": "stream",
          "name": "stdout",
          "text": [
            "1\n",
            "33.8\n"
          ]
        }
      ]
    },
    {
      "cell_type": "markdown",
      "source": [
        "**To Convert Kilometer into Mile:**\n"
      ],
      "metadata": {
        "id": "h3SXe4d5pCpR"
      }
    },
    {
      "cell_type": "code",
      "source": [
        "km = float(input())\n",
        "mile= km*0.621371\n",
        "print(\"%.2f miles\" %mile)\n"
      ],
      "metadata": {
        "colab": {
          "base_uri": "https://localhost:8080/"
        },
        "id": "n2RheOhxpKfa",
        "outputId": "3237953d-1fd6-4a71-87d5-97984c77991a"
      },
      "execution_count": null,
      "outputs": [
        {
          "output_type": "stream",
          "name": "stdout",
          "text": [
            "4\n",
            "2.49 miles\n"
          ]
        }
      ]
    },
    {
      "cell_type": "markdown",
      "source": [
        "**Guesss the number**"
      ],
      "metadata": {
        "id": "KvslSFoOpoGL"
      }
    },
    {
      "cell_type": "code",
      "source": [
        "mynum=7\n",
        "while True:\n",
        "  usernum=int(input())\n",
        "  if mynum==usernum:\n",
        "    print(\"You Won\")\n",
        "    break\n",
        "  else:\n",
        "    print(\"Try Again\")"
      ],
      "metadata": {
        "colab": {
          "base_uri": "https://localhost:8080/"
        },
        "id": "NBzt3uDmp9yA",
        "outputId": "ddb959f3-f8a0-4fc1-afce-66d6e24cad7e"
      },
      "execution_count": null,
      "outputs": [
        {
          "output_type": "stream",
          "name": "stdout",
          "text": [
            "4\n",
            "Try Again\n",
            "5\n",
            "Try Again\n",
            "5\n",
            "Try Again\n",
            "6\n",
            "Try Again\n",
            "7\n",
            "You Won\n"
          ]
        }
      ]
    },
    {
      "cell_type": "markdown",
      "source": [
        "**To elibility For Voting:**"
      ],
      "metadata": {
        "id": "ChhnowS0qqUp"
      }
    },
    {
      "cell_type": "code",
      "source": [
        "age=int(input())\n",
        "if age>=18:\n",
        "  print(\"You are eligible\")\n",
        "else:\n",
        "  print(\"You are not eligible\")"
      ],
      "metadata": {
        "colab": {
          "base_uri": "https://localhost:8080/"
        },
        "id": "v8dWVE8ZqxxW",
        "outputId": "d406fb13-be17-41b7-90da-699ebef88943"
      },
      "execution_count": null,
      "outputs": [
        {
          "output_type": "stream",
          "name": "stdout",
          "text": [
            "16\n",
            "You are not eligible\n"
          ]
        }
      ]
    },
    {
      "cell_type": "markdown",
      "source": [
        "**To elibility for Marriage:**\n"
      ],
      "metadata": {
        "id": "H3WZmtDCrRvx"
      }
    },
    {
      "cell_type": "code",
      "source": [
        "gender=input()\n",
        "age=int(input())\n",
        "if gender==\"female\" or \"FEMALE\":\n",
        "  if age>=18:\n",
        "    print(\"Eligible for marriage\")\n",
        "  else:\n",
        "    print(\"Not Eligible for marriage\")\n",
        "elif gender==\"male\" or \"MALE\":\n",
        "  if age>=21:\n",
        "    print(\"Eligible for marriage\")\n",
        "  else:\n",
        "    print(\"Not Eligible for marriage\")\n",
        "else:\n",
        "  print(\"I Don't know the limit\")"
      ],
      "metadata": {
        "colab": {
          "base_uri": "https://localhost:8080/"
        },
        "id": "iD1svwUfrgAn",
        "outputId": "4b229193-8ef3-4e51-eeb7-873453bfe877"
      },
      "execution_count": null,
      "outputs": [
        {
          "output_type": "stream",
          "name": "stdout",
          "text": [
            "male\n",
            "34\n",
            "Eligible for marriage\n"
          ]
        }
      ]
    },
    {
      "cell_type": "markdown",
      "source": [
        "**To Multiplication Table:**"
      ],
      "metadata": {
        "id": "27I4HV4Ktf86"
      }
    },
    {
      "cell_type": "code",
      "source": [
        "n=int(input())\n",
        "for i in range(1,11):\n",
        "  print(str(n),\"*\",str(i),\"=\",str(n*i))"
      ],
      "metadata": {
        "colab": {
          "base_uri": "https://localhost:8080/"
        },
        "id": "HtQA2Vzytl3u",
        "outputId": "bc5f4b36-786f-4b1d-f379-b86b48ffb128"
      },
      "execution_count": null,
      "outputs": [
        {
          "output_type": "stream",
          "name": "stdout",
          "text": [
            "9\n",
            "9 * 1 = 9\n",
            "9 * 2 = 18\n",
            "9 * 3 = 27\n",
            "9 * 4 = 36\n",
            "9 * 5 = 45\n",
            "9 * 6 = 54\n",
            "9 * 7 = 63\n",
            "9 * 8 = 72\n",
            "9 * 9 = 81\n",
            "9 * 10 = 90\n"
          ]
        }
      ]
    },
    {
      "cell_type": "markdown",
      "source": [],
      "metadata": {
        "id": "E4Xo4fjKvmKI"
      }
    }
  ]
}
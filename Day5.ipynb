{
  "nbformat": 4,
  "nbformat_minor": 0,
  "metadata": {
    "colab": {
      "provenance": [],
      "authorship_tag": "ABX9TyMdfFL3d8M6gV7Vx0eDyvDJ",
      "include_colab_link": true
    },
    "kernelspec": {
      "name": "python3",
      "display_name": "Python 3"
    },
    "language_info": {
      "name": "python"
    }
  },
  "cells": [
    {
      "cell_type": "markdown",
      "metadata": {
        "id": "view-in-github",
        "colab_type": "text"
      },
      "source": [
        "<a href=\"https://colab.research.google.com/github/LaguduPadmasree/Basic_Python_codes/blob/main/Day5.ipynb\" target=\"_parent\"><img src=\"https://colab.research.google.com/assets/colab-badge.svg\" alt=\"Open In Colab\"/></a>"
      ]
    },
    {
      "cell_type": "markdown",
      "source": [
        "#Smallest Product Pair:\n",
        "**Input:**\n",
        "sum=9\n",
        "\n",
        "size of arr=7\n",
        "\n",
        "arr= 5 2 4 3 9 7 1\n",
        "\n",
        "**Output:**\n",
        "\n",
        "2\n",
        "\n",
        "**Explaination:**\n",
        "\n",
        "Pair of least element is (2,1) 2+1=3<9,\n",
        "\n",
        "Product of (2,1) 2*1=2\n",
        "\n",
        "output is 2"
      ],
      "metadata": {
        "id": "9cPMGxBRoWRQ"
      }
    },
    {
      "cell_type": "code",
      "source": [
        "def ProductSmallestPair(sum,arr):\n",
        "  if len(arr)<2:\n",
        "    return -1\n",
        "  arr.sort()\n",
        "  Smallest_Pair_Sum=arr[0]+arr[1]\n",
        "  if Smallest_Pair_Sum<=sum:\n",
        "    return arr[0]*arr[1]\n",
        "  return 0\n",
        "sum=9\n",
        "arr=[5,2,3,4,9,7,1]\n",
        "print(ProductSmallestPair(sum,arr))"
      ],
      "metadata": {
        "colab": {
          "base_uri": "https://localhost:8080/"
        },
        "id": "fmSLfOq2prh9",
        "outputId": "f75d9d53-ab95-4a18-ecbe-2100d1872cb3"
      },
      "execution_count": null,
      "outputs": [
        {
          "output_type": "stream",
          "name": "stdout",
          "text": [
            "2\n"
          ]
        }
      ]
    },
    {
      "cell_type": "markdown",
      "source": [
        "**Write a program to find the length of the longest palindrome sequence in string**\n",
        "\n",
        "Input:\n",
        "\n",
        "geekeegs\n",
        "\n",
        "Output:\n",
        "\n",
        "0\n",
        "\n",
        "ge gee geek geek geeke geekee geekeeg"
      ],
      "metadata": {
        "id": "3FeP0dE2rdN1"
      }
    },
    {
      "cell_type": "code",
      "source": [
        "def lps(s):\n",
        "  n=len(s)\n",
        "  table=[[0]*n for _ in range(n)]\n",
        "  for  i in range(n):\n",
        "    table[i][i]=1\n",
        "  for i in range(n-1):\n",
        "     if s[i]==s[i+1]:\n",
        "      table[i][i+1]=2\n",
        "  return table[0][n-2]\n",
        "n=input()\n",
        "print(lps(n))"
      ],
      "metadata": {
        "colab": {
          "base_uri": "https://localhost:8080/"
        },
        "id": "YcM2gVEjr-f6",
        "outputId": "72f97134-cdd7-48da-b0e2-2a9efa50cf31"
      },
      "execution_count": null,
      "outputs": [
        {
          "output_type": "stream",
          "name": "stdout",
          "text": [
            "geekeeg\n",
            "0\n"
          ]
        }
      ]
    },
    {
      "cell_type": "markdown",
      "source": [
        "#MoveHypens:\n",
        "\n",
        "**Input:**\n",
        "\n",
        "Str.Move-Hypens-To-Front\n",
        "\n",
        "Output:\n",
        "\n",
        "---MoveHypensFront\n",
        "\n",
        "**Explaination:**\n",
        "\n",
        "\"Move-Hypen-To-Front\" has 3 hypens(-) which are moved to the  front of string, this output is \"---MoveHypen\""
      ],
      "metadata": {
        "id": "WkqoAiNktiVp"
      }
    },
    {
      "cell_type": "code",
      "source": [
        "n=input()\n",
        "m=list(n)\n",
        "for i in range(0,len(m)):\n",
        "  if m[i]==\"_\":\n",
        "    m.pop()\n",
        "    m.insert(0,\"_\")\n",
        "    m=\"\".join(m)\n",
        "print(m)"
      ],
      "metadata": {
        "colab": {
          "base_uri": "https://localhost:8080/"
        },
        "id": "F63OpDmBwBd9",
        "outputId": "ad4767cd-1701-4e80-9a94-a0b23f33c306"
      },
      "execution_count": null,
      "outputs": [
        {
          "output_type": "stream",
          "name": "stdout",
          "text": [
            "move-hypens-to-front\n",
            "['m', 'o', 'v', 'e', '-', 'h', 'y', 'p', 'e', 'n', 's', '-', 't', 'o', '-', 'f', 'r', 'o', 'n', 't']\n"
          ]
        }
      ]
    },
    {
      "cell_type": "markdown",
      "source": [
        "**Write a program to find all permutations of a string**\n",
        "\n",
        "Input:\n",
        "ABC\n",
        "\n",
        "Output:\n",
        "\n",
        "['ABC','ACB','BAC','BCA','CBA','CAB']\n"
      ],
      "metadata": {
        "id": "Zn_rVs6pxXbN"
      }
    },
    {
      "cell_type": "code",
      "source": [
        "from itertools import permutations\n",
        "s=input(\"Enter a string:\")\n",
        "prems=[''.join(p) for p in permutations(s)]\n",
        "print(prems)"
      ],
      "metadata": {
        "colab": {
          "base_uri": "https://localhost:8080/"
        },
        "id": "18b_MYYdzP-s",
        "outputId": "b8fb53e3-2112-46a5-a23e-3ad3df26137e"
      },
      "execution_count": null,
      "outputs": [
        {
          "output_type": "stream",
          "name": "stdout",
          "text": [
            "Enter a string:ABC\n",
            "['ABC', 'ACB', 'BAC', 'BCA', 'CAB', 'CBA']\n"
          ]
        }
      ]
    }
  ]
}
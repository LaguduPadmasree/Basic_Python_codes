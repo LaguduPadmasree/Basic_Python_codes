{
  "nbformat": 4,
  "nbformat_minor": 0,
  "metadata": {
    "colab": {
      "provenance": [],
      "authorship_tag": "ABX9TyPd3hVAB1uAP9umxwbj4MNq",
      "include_colab_link": true
    },
    "kernelspec": {
      "name": "python3",
      "display_name": "Python 3"
    },
    "language_info": {
      "name": "python"
    }
  },
  "cells": [
    {
      "cell_type": "markdown",
      "metadata": {
        "id": "view-in-github",
        "colab_type": "text"
      },
      "source": [
        "<a href=\"https://colab.research.google.com/github/LaguduPadmasree/Basic_Python_codes/blob/main/Day17.ipynb\" target=\"_parent\"><img src=\"https://colab.research.google.com/assets/colab-badge.svg\" alt=\"Open In Colab\"/></a>"
      ]
    },
    {
      "cell_type": "markdown",
      "source": [
        "#Weird Number:\n",
        "Give an integer,n, perform the following the conditional statement\n",
        "* If n is Odd\n",
        "* If n is even and in the inclusive range of 2 to 5, Print Not Weird\n",
        "* If n is even and in the inclusive range of 6 to 20, Print Weird\n",
        "*If n is even & greater than 20, Print Not Weird\n",
        "\n",
        "**Input Format:**\n",
        "\n",
        "A single line containing a positive number,n.\n",
        "\n",
        "**Constraints:**\n",
        "\n",
        "* 1 < n <= 100"
      ],
      "metadata": {
        "id": "UiyooPwJ-Kof"
      }
    },
    {
      "cell_type": "code",
      "source": [
        "n = int(input().strip())\n",
        "if n%2==0:\n",
        "  if n in range(2,6):\n",
        "    print(\"Not Weird\")\n",
        "  elif n in range(5,21):\n",
        "    print(\"Weird\")\n",
        "  else:\n",
        "    print(\"Not Weird\")\n",
        "else:\n",
        "  print(\"Weird\")"
      ],
      "metadata": {
        "colab": {
          "base_uri": "https://localhost:8080/"
        },
        "id": "M-7cFyTDAIb2",
        "outputId": "bc3ef864-b9fb-4751-8211-434d53f1bdf9"
      },
      "execution_count": 2,
      "outputs": [
        {
          "output_type": "stream",
          "name": "stdout",
          "text": [
            "22\n",
            "Not Weird\n"
          ]
        }
      ]
    },
    {
      "cell_type": "markdown",
      "source": [
        "#Operation Choices:\n",
        "\n"
      ],
      "metadata": {
        "id": "LbYywf60Ba4f"
      }
    },
    {
      "cell_type": "code",
      "source": [
        "def OperationChoice(c,a,b):\n",
        "  if c==1:\n",
        "    print(a+b)\n",
        "  elif c==2:\n",
        "    print(a-b)\n",
        "  elif c==3:\n",
        "    print(a*b)\n",
        "  elif c==4:\n",
        "    print(a/b)\n",
        "  else:\n",
        "    print(\"Invalid Operation\")\n",
        "c=2\n",
        "a=5\n",
        "b=20\n",
        "print(OperationChoice(c,a,b))"
      ],
      "metadata": {
        "colab": {
          "base_uri": "https://localhost:8080/"
        },
        "id": "rIC1P5SmBg9o",
        "outputId": "9978d238-e5d6-498e-a653-dae06383afcf"
      },
      "execution_count": 3,
      "outputs": [
        {
          "output_type": "stream",
          "name": "stdout",
          "text": [
            "-15\n",
            "None\n"
          ]
        }
      ]
    }
  ]
}
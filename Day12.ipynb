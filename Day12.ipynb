{
  "nbformat": 4,
  "nbformat_minor": 0,
  "metadata": {
    "colab": {
      "provenance": [],
      "authorship_tag": "ABX9TyNEZx/JTRVMC5TvhCrihPUo",
      "include_colab_link": true
    },
    "kernelspec": {
      "name": "python3",
      "display_name": "Python 3"
    },
    "language_info": {
      "name": "python"
    }
  },
  "cells": [
    {
      "cell_type": "markdown",
      "metadata": {
        "id": "view-in-github",
        "colab_type": "text"
      },
      "source": [
        "<a href=\"https://colab.research.google.com/github/LaguduPadmasree/Basic_Python_codes/blob/main/Day12.ipynb\" target=\"_parent\"><img src=\"https://colab.research.google.com/assets/colab-badge.svg\" alt=\"Open In Colab\"/></a>"
      ]
    },
    {
      "cell_type": "markdown",
      "source": [
        "#Question 1:"
      ],
      "metadata": {
        "id": "nSkS3zwV5f4i"
      }
    },
    {
      "cell_type": "markdown",
      "source": [
        "Write a function that three parameters two positive integers **r** and **unit** , and a positive integer **array** arr of size **n**.\n",
        "\n",
        "* **r** represents the number of rats present in an area.\n",
        "\n",
        "* **Unit** is the amount of food each rat consumers\n",
        "\n",
        "* Each element of the array **arr** represents the amount of food present in each house, where the index of the array corresponds to the house number.\n",
        "\n",
        "The function should determine the minimum number of houses required to provide enough food for all the rats.\n",
        "\n",
        "**Note :**\n",
        "* Return -1 if the array is null\n",
        "* Return 0 if the total amount of food from all houses is not sufficient for all the rats.\n",
        "* Computed values lie within the integer range.\n",
        "\n",
        "**Example:**\n",
        "\n",
        "* **Input:**\n",
        "\n",
        "r = 7\n",
        "\n",
        "unit = 2\n",
        "\n",
        "n = 8\n",
        "\n",
        "arr=[2,8,3,5,7,4,1,2]\n",
        "\n",
        "* **Output:**\n",
        "\n",
        "4\n",
        "\n",
        "**Explanation:**\n",
        "\n",
        "Total amount of food required for all rats = r * unit\n",
        "\n",
        "= 7 * 2 = 14.\n",
        "\n",
        "The amount of food in 1st houses = 2+8+3+5 = 18. Since, amount of food in 1st 4 houses is sufficient for all the rats. Thus, output is 4"
      ],
      "metadata": {
        "id": "SYDJE0wj6LNk"
      }
    },
    {
      "cell_type": "code",
      "execution_count": null,
      "metadata": {
        "colab": {
          "base_uri": "https://localhost:8080/"
        },
        "id": "3EkjLYJ11VYW",
        "outputId": "cb6cde0a-44c9-429f-b5e1-62c682e12556"
      },
      "outputs": [
        {
          "output_type": "stream",
          "name": "stdout",
          "text": [
            "Enter count of rats: 7\n",
            "Enter count of units: 2\n",
            "Number of elements in array: 8\n",
            "List elements with comma separation: 2 3 8 5 7 4 1 2\n",
            "4\n"
          ]
        }
      ],
      "source": [
        "from array import array\n",
        "\n",
        "def calculate(r, unit, arr, n):\n",
        "  if arr is None or n == 0:\n",
        "    return -1\n",
        "  totalFoodRequired = r * unit\n",
        "  FoodTillNow = 0\n",
        "\n",
        "  for house in range(n):\n",
        "    FoodTillNow += arr[house]\n",
        "    if FoodTillNow >= totalFoodRequired:\n",
        "      return house + 1\n",
        "  return 0\n",
        "\n",
        "r = int(input(\"Enter count of rats: \"))\n",
        "unit = int(input(\"Enter count of units: \"))\n",
        "n = int(input(\"Number of elements in array: \"))\n",
        "arr = list(map(int, input(\"List elements with comma separation: \").split()))\n",
        "\n",
        "print(calculate(r, unit, arr, n))"
      ]
    },
    {
      "cell_type": "markdown",
      "source": [
        "**Another format of code:**"
      ],
      "metadata": {
        "id": "-RmhKWy6GPux"
      }
    },
    {
      "cell_type": "code",
      "source": [
        "r = 7   # Number of rats\n",
        "unit = 2  # Amount of food units required per rat\n",
        "n = 8   # Number of houses\n",
        "arr = [2,3,8,5,7,4,1,2]  # Amount of food available in each house\n",
        "if n==0:  # If no houses, return -1 (indicating not enough food)\n",
        "  print(-1)   # If no houses, return -1 (indicating not enough food)\n",
        "else:\n",
        "  total_food = r*unit  # Calculate the total food required for all rats\n",
        "  total_food_available = 0  # Initialize the total food available\n",
        "  house_count = 0  # Initialize the house count\n",
        "  for food in arr:  # Iterate through each house\n",
        "    total_food_available+=food  # Add the food available in the current house to the total\n",
        "    house_count+=1   # Increment the house count\n",
        "    if total_food_available>=total_food:  # Check if enough food has been gathered\n",
        "      print(house_count)  # Print the number of houses required\n",
        "      break  # Exit the loop since enough food has been found\n",
        "\n"
      ],
      "metadata": {
        "colab": {
          "base_uri": "https://localhost:8080/"
        },
        "id": "4hSywV5ZGKxT",
        "outputId": "f3b65b7f-5f8e-4f28-9c6e-142679e5a6be"
      },
      "execution_count": null,
      "outputs": [
        {
          "output_type": "stream",
          "name": "stdout",
          "text": [
            "4\n"
          ]
        }
      ]
    }
  ]
}
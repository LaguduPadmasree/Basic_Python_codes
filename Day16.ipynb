{
  "nbformat": 4,
  "nbformat_minor": 0,
  "metadata": {
    "colab": {
      "provenance": [],
      "authorship_tag": "ABX9TyMZoXOo1TEEv8NEIYa1U1//",
      "include_colab_link": true
    },
    "kernelspec": {
      "name": "python3",
      "display_name": "Python 3"
    },
    "language_info": {
      "name": "python"
    }
  },
  "cells": [
    {
      "cell_type": "markdown",
      "metadata": {
        "id": "view-in-github",
        "colab_type": "text"
      },
      "source": [
        "<a href=\"https://colab.research.google.com/github/LaguduPadmasree/Basic_Python_codes/blob/main/Day16.ipynb\" target=\"_parent\"><img src=\"https://colab.research.google.com/assets/colab-badge.svg\" alt=\"Open In Colab\"/></a>"
      ]
    },
    {
      "cell_type": "markdown",
      "source": [
        "#Financial Dataset:\n",
        "\n",
        "**Input1:**\n",
        "\n",
        "(3,5,6,-7,9,10,-12)\n",
        "\n",
        "**Input2:**\n",
        "\n",
        "7\n",
        "\n",
        "**Output:**\n",
        "\n",
        "2\n",
        "\n",
        "**Output Explaination:**\n",
        "*The list A = [3, 5, 6, -7, 9, 10, -12] is used.\n",
        "Here's the comparison between consecutive elements:\n",
        "* 5 > 3: Not decreasing.\n",
        "*6 > 5: Not decreasing.\n",
        "*-7 < 6: Decreasing (count = 1).\n",
        "*9 > -7: Not decreasing.\n",
        "*10 > 9: Not decreasing.\n",
        "*-12 < 10: Decreasing (count = 2).\n",
        "*Thus, the output will be 2 since there are 2 positions where the current element is smaller than the previous one.\n"
      ],
      "metadata": {
        "id": "lekg3287pX_Y"
      }
    },
    {
      "cell_type": "code",
      "source": [
        "def count_decreasing_day(A,N):\n",
        "  count=0\n",
        "  for i in range(1,N):\n",
        "    if A[i]<A[i-1]:\n",
        "      count+=1\n",
        "  return count\n",
        "A=[3,5,6,-7,9,10,-12]\n",
        "N=len(A)\n",
        "print(count_decreasing_day(A,N))"
      ],
      "metadata": {
        "colab": {
          "base_uri": "https://localhost:8080/"
        },
        "id": "zm-i_0PYqfWB",
        "outputId": "7020c41b-3c55-4a67-947c-8d67f9e56c84"
      },
      "execution_count": null,
      "outputs": [
        {
          "output_type": "stream",
          "name": "stdout",
          "text": [
            "2\n"
          ]
        }
      ]
    },
    {
      "cell_type": "markdown",
      "source": [
        "#Permutations:\n",
        "Write a program to find all permutations of a sting.\n",
        "\n",
        "**Input:**\n",
        "\n",
        "ABC\n",
        "\n",
        "**Output:**\n",
        "\n",
        "* ABC\n",
        "*ACB\n",
        "*BAC\n",
        "*BCA\n",
        "*CAB\n",
        "*CBA\n"
      ],
      "metadata": {
        "id": "pJVoWeMhtwnb"
      }
    },
    {
      "cell_type": "code",
      "source": [
        "from itertools import permutations\n",
        "s = input(\"Enter a string: \")\n",
        "perms = [''.join(p) for p in permutations(s)]\n",
        "print(perms,end=\" \")"
      ],
      "metadata": {
        "colab": {
          "base_uri": "https://localhost:8080/"
        },
        "id": "BE6zFEHHx_hN",
        "outputId": "492f363e-79d0-4e2e-8db4-abb8f1d92885"
      },
      "execution_count": 7,
      "outputs": [
        {
          "output_type": "stream",
          "name": "stdout",
          "text": [
            "Enter a string: ABC\n",
            "['ABC', 'ACB', 'BAC', 'BCA', 'CAB', 'CBA'] "
          ]
        }
      ]
    }
  ]
}
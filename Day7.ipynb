{
  "nbformat": 4,
  "nbformat_minor": 0,
  "metadata": {
    "colab": {
      "provenance": [],
      "authorship_tag": "ABX9TyNKrdfV0ZJWHvEDUWCQZROf",
      "include_colab_link": true
    },
    "kernelspec": {
      "name": "python3",
      "display_name": "Python 3"
    },
    "language_info": {
      "name": "python"
    }
  },
  "cells": [
    {
      "cell_type": "markdown",
      "metadata": {
        "id": "view-in-github",
        "colab_type": "text"
      },
      "source": [
        "<a href=\"https://colab.research.google.com/github/LaguduPadmasree/Basic_Python_codes/blob/main/Day7.ipynb\" target=\"_parent\"><img src=\"https://colab.research.google.com/assets/colab-badge.svg\" alt=\"Open In Colab\"/></a>"
      ]
    },
    {
      "cell_type": "markdown",
      "source": [
        "#Palindrome:"
      ],
      "metadata": {
        "id": "Ymh91i5rDrgu"
      }
    },
    {
      "cell_type": "code",
      "source": [
        "def ispalindrome(s):\n",
        "  return s==s[::-1]\n",
        "s=\"malayalam\"\n",
        "ans=ispalindrome(s)\n",
        "if ans:\n",
        "  print(\"Palindrome\")\n",
        "else:\n",
        "  print(\"Not Palindrome\")"
      ],
      "metadata": {
        "colab": {
          "base_uri": "https://localhost:8080/"
        },
        "id": "FxM5DkgDDyvr",
        "outputId": "f950dc6d-dca0-4118-c2a8-db6fef5b87cb"
      },
      "execution_count": null,
      "outputs": [
        {
          "output_type": "stream",
          "name": "stdout",
          "text": [
            "Palindrome\n"
          ]
        }
      ]
    },
    {
      "cell_type": "markdown",
      "source": [
        "**Palindrome using input+string slicing:**"
      ],
      "metadata": {
        "id": "qA3V5DYhr3lJ"
      }
    },
    {
      "cell_type": "code",
      "source": [
        "num = int(input())\n",
        "num_str = str(num)\n",
        "if num_str == num_str[::-1]:\n",
        "  print(\"Palindrome\")\n",
        "else:\n",
        "  print(\"Not palindrome\")"
      ],
      "metadata": {
        "colab": {
          "base_uri": "https://localhost:8080/"
        },
        "id": "XwJJvZootXzo",
        "outputId": "800bb46f-b863-4f47-861a-f90e60bc1b89"
      },
      "execution_count": null,
      "outputs": [
        {
          "output_type": "stream",
          "name": "stdout",
          "text": [
            "13431\n",
            "Palindrome\n"
          ]
        }
      ]
    },
    {
      "cell_type": "markdown",
      "source": [
        "#Armstrong Number:\n",
        "**INPUT:**\n",
        "\n",
        "153 =1^3+5^3+3^3=153\n",
        "\n",
        "**OUTPUT:**\n",
        "\n",
        "153"
      ],
      "metadata": {
        "id": "V8hZyTcwEhkc"
      }
    },
    {
      "cell_type": "code",
      "source": [
        "def is_armstrong(num):\n",
        "  num_str=str(num)\n",
        "  n=len(num_str)\n",
        "  sum=0\n",
        "  for digit in num_str:\n",
        "    sum+=int(digit)**n\n",
        "  if sum==num:\n",
        "     return True\n",
        "  else:\n",
        "     return False\n",
        "num=int(input())\n",
        "print(is_armstrong(num))\n"
      ],
      "metadata": {
        "colab": {
          "base_uri": "https://localhost:8080/"
        },
        "id": "rlK1bQ4xEm77",
        "outputId": "603453d6-a51e-4022-a379-df3d1f59b66f"
      },
      "execution_count": null,
      "outputs": [
        {
          "output_type": "stream",
          "name": "stdout",
          "text": [
            "370\n",
            "True\n"
          ]
        }
      ]
    },
    {
      "cell_type": "markdown",
      "source": [
        "#Anagram:\n",
        "**Input:**\n",
        "\n",
        "listen\n",
        "\n",
        "**Output:**\n",
        "\n",
        "silent"
      ],
      "metadata": {
        "id": "opljXtB9G8aL"
      }
    },
    {
      "cell_type": "code",
      "source": [
        "def check(s1,s2):\n",
        "  if sorted(s1)==sorted(s2):\n",
        "    print(\"Anagram\")\n",
        "  else:\n",
        "    print(\"Not Anagram\")\n",
        "\n",
        "s1=input()\n",
        "s2=input()\n",
        "print(check(s1,s2))"
      ],
      "metadata": {
        "colab": {
          "base_uri": "https://localhost:8080/"
        },
        "id": "C00-OwdBGxmK",
        "outputId": "77f3eceb-bac3-4a21-d093-eff26fc6f920"
      },
      "execution_count": null,
      "outputs": [
        {
          "output_type": "stream",
          "name": "stdout",
          "text": [
            "listen\n",
            "silent\n",
            "Anagram\n",
            "None\n"
          ]
        }
      ]
    },
    {
      "cell_type": "markdown",
      "source": [
        "#Fibonacci Series:\n",
        "**Input:**\n",
        "\n",
        "8\n",
        "\n",
        "**Output:**\n",
        "\n",
        "0 1 1 2 3 5 8 13"
      ],
      "metadata": {
        "id": "NwjZGUsBvJnV"
      }
    },
    {
      "cell_type": "code",
      "source": [
        "def fibonacci(n):\n",
        "  a,b=0,1\n",
        "  for i in range(n):\n",
        "    a,b=b,a+b\n",
        "  return a\n",
        "n=int(input())\n",
        "print(fibonacci(n))"
      ],
      "metadata": {
        "colab": {
          "base_uri": "https://localhost:8080/"
        },
        "id": "YTw43XlzvmaX",
        "outputId": "fdbfe510-a2a4-47a0-ec2b-7d045f0e0af4"
      },
      "execution_count": null,
      "outputs": [
        {
          "output_type": "stream",
          "name": "stdout",
          "text": [
            "8\n",
            "21\n"
          ]
        }
      ]
    },
    {
      "cell_type": "markdown",
      "source": [
        "**Input:**\n",
        "\n",
        "8\n",
        "\n",
        "**Output:**\n",
        "\n",
        "0 1 1 2 3 5 8 13\n"
      ],
      "metadata": {
        "id": "pyBdp7e5wRTb"
      }
    },
    {
      "cell_type": "code",
      "source": [
        "def fibonacci(n):\n",
        "  if n < 0:\n",
        "    return 0\n",
        "  elif n == 0:\n",
        "    return 0\n",
        "  elif n == 1:\n",
        "    return 1\n",
        "  else:\n",
        "    return fibonacci(n-1)+fibonacci(n-2)\n",
        "n = int(input())\n",
        "print(fibonacci(n))"
      ],
      "metadata": {
        "colab": {
          "base_uri": "https://localhost:8080/"
        },
        "id": "XcucM_l4wiQR",
        "outputId": "7cc5b1af-ebf8-4c8d-d766-cd420be1b6f0"
      },
      "execution_count": null,
      "outputs": [
        {
          "output_type": "stream",
          "name": "stdout",
          "text": [
            "8\n",
            "21\n"
          ]
        }
      ]
    },
    {
      "cell_type": "markdown",
      "source": [
        "**Fibonacci in reverse order:**\n",
        "\n",
        "output:\n",
        "\n",
        "21 13 8 5 3 2 1 1 0"
      ],
      "metadata": {
        "id": "PTI3-G8PyCgs"
      }
    },
    {
      "cell_type": "code",
      "source": [
        "fibonacci_sequence=[0,1,1,2,3,5,8,13,21]\n",
        "while fibonacci_sequence[-1]<0:\n",
        "  next_number=fibonacci_sequence[-1]+fibonacci_sequence[-2]\n",
        "  fibonacci_sequence.append(next_number)\n",
        "for number in reversed(fibonacci_sequence):\n",
        "  print(number,end=\" \")"
      ],
      "metadata": {
        "colab": {
          "base_uri": "https://localhost:8080/"
        },
        "id": "LXu6GOWWyYWc",
        "outputId": "257a0f5f-e9f4-44c6-e609-37d814ecaa0e"
      },
      "execution_count": null,
      "outputs": [
        {
          "output_type": "stream",
          "name": "stdout",
          "text": [
            "21 13 8 5 3 2 1 1 0 "
          ]
        }
      ]
    }
  ]
}
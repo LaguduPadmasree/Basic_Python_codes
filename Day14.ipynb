{
  "nbformat": 4,
  "nbformat_minor": 0,
  "metadata": {
    "colab": {
      "provenance": [],
      "authorship_tag": "ABX9TyNhHMN1BXdhqYY5pfHS8Sht",
      "include_colab_link": true
    },
    "kernelspec": {
      "name": "python3",
      "display_name": "Python 3"
    },
    "language_info": {
      "name": "python"
    }
  },
  "cells": [
    {
      "cell_type": "markdown",
      "metadata": {
        "id": "view-in-github",
        "colab_type": "text"
      },
      "source": [
        "<a href=\"https://colab.research.google.com/github/LaguduPadmasree/Basic_Python_codes/blob/main/Day14.ipynb\" target=\"_parent\"><img src=\"https://colab.research.google.com/assets/colab-badge.svg\" alt=\"Open In Colab\"/></a>"
      ]
    },
    {
      "cell_type": "markdown",
      "source": [
        "#Next Greater Element:\n",
        "\n",
        "Given an array of N size.Print the **Next** **Greater Element** of every element.\n",
        "\n",
        "The **Next Greater Elemen**t for an element x is the first greater element on the right side of x in the array. Elements for which no greater element exist, consider the next greater element as -1.\n",
        "\n",
        "**Input Format:**\n",
        "\n",
        "Given array of N size with space seperated integers.\n",
        "\n",
        "**Output Format:**\n",
        "\n",
        "Array of size N with next greater element\n",
        "\n",
        "**Input:**\n",
        "\n",
        "4 5 2 25\n",
        "\n",
        "**Output:**\n",
        "\n",
        "5 25 25 -1\n",
        "\n",
        "It is a stackbased approach"
      ],
      "metadata": {
        "id": "NT2fSHJuCQ7g"
      }
    },
    {
      "source": [
        "def nextGreaterElement(arr):\n",
        "  stack = []\n",
        "  result = [-1] * len(arr)\n",
        "  for i in range(len(arr) - 1, -1, -1):\n",
        "    while stack and stack[-1] <= arr[i]:\n",
        "      stack.pop()\n",
        "    if stack:\n",
        "      result[i] = stack[-1]\n",
        "    stack.append(arr[i])\n",
        "  return result\n",
        "#Example usage\n",
        "arr = [4, 5, 2, 25]\n",
        "result = nextGreaterElement(arr)\n",
        "print(*result) # Output: 5 25 25 -1"
      ],
      "cell_type": "code",
      "metadata": {
        "colab": {
          "base_uri": "https://localhost:8080/"
        },
        "id": "QfMH6e6bH8ez",
        "outputId": "bdefe4e2-1b30-47c8-dbdb-bee417d6884a"
      },
      "execution_count": null,
      "outputs": [
        {
          "output_type": "stream",
          "name": "stdout",
          "text": [
            "5 25 25 -1\n"
          ]
        }
      ]
    },
    {
      "cell_type": "markdown",
      "source": [
        "#Maths Is Fun\n",
        "\n",
        "**Divisible by 5 and 3:**\n",
        "\n",
        "**Input:**\n",
        "\n",
        "m = 12\n",
        "\n",
        "n = 50\n",
        "\n",
        "**Output:**\n",
        "90\n",
        "\n",
        "**Explaination:**\n",
        "\n",
        "The numbers is divisible by both 3 and 5,between 12&50 both inclusive are (15,30,45) and their sum is 90"
      ],
      "metadata": {
        "id": "bQVih3h0NGS8"
      }
    },
    {
      "cell_type": "code",
      "source": [
        "n = 12\n",
        "m = 50\n",
        "def calculate(n, m):\n",
        "  sum = 0\n",
        "  for i in range(n,m+1):\n",
        "    if i % 3 == 0 and i % 5 == 0:\n",
        "      sum+=1\n",
        "  print(sum)\n",
        "\n",
        "calculate(n,m)"
      ],
      "metadata": {
        "colab": {
          "base_uri": "https://localhost:8080/"
        },
        "id": "dE4sfuPjOJRP",
        "outputId": "f415186a-bb00-42d4-bf7f-b4a499a5fa19"
      },
      "execution_count": null,
      "outputs": [
        {
          "output_type": "stream",
          "name": "stdout",
          "text": [
            "3\n"
          ]
        }
      ]
    }
  ]
}
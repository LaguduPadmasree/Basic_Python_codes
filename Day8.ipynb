{
  "cells": [
    {
      "cell_type": "markdown",
      "metadata": {
        "id": "view-in-github",
        "colab_type": "text"
      },
      "source": [
        "<a href=\"https://colab.research.google.com/github/LaguduPadmasree/Basic_Python_codes/blob/main/Day8.ipynb\" target=\"_parent\"><img src=\"https://colab.research.google.com/assets/colab-badge.svg\" alt=\"Open In Colab\"/></a>"
      ]
    },
    {
      "cell_type": "markdown",
      "metadata": {
        "id": "vEIJut4hKxc1"
      },
      "source": [
        "#STAR PATTERNS"
      ]
    },
    {
      "cell_type": "markdown",
      "metadata": {
        "id": "zpISPqAmK1U9"
      },
      "source": [
        "**Square:**"
      ]
    },
    {
      "cell_type": "code",
      "execution_count": null,
      "metadata": {
        "colab": {
          "base_uri": "https://localhost:8080/"
        },
        "id": "n24JGHpHKpZw",
        "outputId": "d0703b1d-4987-4302-a058-df41697969b9"
      },
      "outputs": [
        {
          "name": "stdout",
          "output_type": "stream",
          "text": [
            "* * * * * \n",
            "* * * * * \n",
            "* * * * * \n",
            "* * * * * \n",
            "* * * * * \n"
          ]
        }
      ],
      "source": [
        "n=5\n",
        "for i in range(n):\n",
        "    print(\"* \"*n)"
      ]
    },
    {
      "cell_type": "markdown",
      "metadata": {
        "id": "zLigtq37MiUh"
      },
      "source": [
        "**Right Angle Triangle:**"
      ]
    },
    {
      "cell_type": "code",
      "execution_count": null,
      "metadata": {
        "colab": {
          "base_uri": "https://localhost:8080/"
        },
        "id": "w8kdo6RaMvuT",
        "outputId": "dd8698fd-7cf1-4ad3-aada-463682600f39"
      },
      "outputs": [
        {
          "name": "stdout",
          "output_type": "stream",
          "text": [
            "* \n",
            "* * \n",
            "* * * \n",
            "* * * * \n",
            "* * * * * \n"
          ]
        }
      ],
      "source": [
        "n=5\n",
        "for i in range(n):\n",
        "  print(\"* \"*(i+1))"
      ]
    },
    {
      "cell_type": "markdown",
      "metadata": {
        "id": "HnCARzQONBHw"
      },
      "source": [
        "**Inverted Right Angle Traingle:**"
      ]
    },
    {
      "cell_type": "code",
      "execution_count": null,
      "metadata": {
        "colab": {
          "base_uri": "https://localhost:8080/"
        },
        "id": "bv_z6VpwNAKA",
        "outputId": "2379e2b5-7135-4d44-fee7-dd8b5ccafae0"
      },
      "outputs": [
        {
          "output_type": "stream",
          "name": "stdout",
          "text": [
            "*****\n",
            "****\n",
            "***\n",
            "**\n",
            "*\n"
          ]
        }
      ],
      "source": [
        "n=5\n",
        "for i in range(n):\n",
        "  print(\"*\"*(n-i))"
      ]
    },
    {
      "cell_type": "markdown",
      "source": [
        "**Leftangle Triangle:**"
      ],
      "metadata": {
        "id": "C8OtuvYslyor"
      }
    },
    {
      "cell_type": "code",
      "source": [
        "n=5\n",
        "for i in range(n):\n",
        "  print(\"\"*(n-i)+\"*\"*(i+1))"
      ],
      "metadata": {
        "colab": {
          "base_uri": "https://localhost:8080/"
        },
        "id": "9ih9Zm6lltpO",
        "outputId": "d47dffbe-abec-4c13-d383-c68751199e2e"
      },
      "execution_count": null,
      "outputs": [
        {
          "output_type": "stream",
          "name": "stdout",
          "text": [
            "*\n",
            "**\n",
            "***\n",
            "****\n",
            "*****\n"
          ]
        }
      ]
    },
    {
      "cell_type": "markdown",
      "source": [
        "**Inverted Left Angle Triangle:**"
      ],
      "metadata": {
        "id": "4YEJMqzRms-S"
      }
    },
    {
      "cell_type": "code",
      "source": [
        "n=5\n",
        "for i in range(n):\n",
        "  print(\" \"*i+\"*\"*(n-i))"
      ],
      "metadata": {
        "colab": {
          "base_uri": "https://localhost:8080/"
        },
        "id": "knHHvxfHnW1V",
        "outputId": "0e8a64ff-82c7-4a4f-ca90-c06cf510388e"
      },
      "execution_count": null,
      "outputs": [
        {
          "output_type": "stream",
          "name": "stdout",
          "text": [
            "*****\n",
            " ****\n",
            "  ***\n",
            "   **\n",
            "    *\n"
          ]
        }
      ]
    },
    {
      "cell_type": "markdown",
      "source": [
        "**Triangle Pyramid:**"
      ],
      "metadata": {
        "id": "F-jjBaF5pF_-"
      }
    },
    {
      "cell_type": "code",
      "source": [
        "n=5\n",
        "for i in range(n):\n",
        "  print(\" \"*(n-i)+\"* \"*(i+1))"
      ],
      "metadata": {
        "colab": {
          "base_uri": "https://localhost:8080/"
        },
        "id": "qNtrgmAUpK27",
        "outputId": "969f8d59-e0bb-41c0-c8bd-da23e8a29212"
      },
      "execution_count": null,
      "outputs": [
        {
          "output_type": "stream",
          "name": "stdout",
          "text": [
            "     * \n",
            "    * * \n",
            "   * * * \n",
            "  * * * * \n",
            " * * * * * \n"
          ]
        }
      ]
    },
    {
      "cell_type": "markdown",
      "source": [
        "**Inverted Triangle Pyramid:**"
      ],
      "metadata": {
        "id": "wSGzY--0pu7i"
      }
    },
    {
      "cell_type": "code",
      "source": [
        "n=5\n",
        "for i in range(n):\n",
        "  print(\" \"*i+\"* \"*(n-i))"
      ],
      "metadata": {
        "colab": {
          "base_uri": "https://localhost:8080/"
        },
        "id": "ridv47pXpmT6",
        "outputId": "df9c3f42-4eb5-4105-a419-70aceb801d4b"
      },
      "execution_count": null,
      "outputs": [
        {
          "output_type": "stream",
          "name": "stdout",
          "text": [
            "* * * * * \n",
            " * * * * \n",
            "  * * * \n",
            "   * * \n",
            "    * \n"
          ]
        }
      ]
    },
    {
      "cell_type": "markdown",
      "source": [
        "**Square Hallow Pattern:**"
      ],
      "metadata": {
        "id": "IMU_WDN1zoUd"
      }
    },
    {
      "cell_type": "code",
      "source": [
        " n=4\n",
        "for i in range(n):\n",
        "  for j in range(n):\n",
        "    if(i==0 or i==n-1 or j==0 or j==n-1):\n",
        "      print(\"*\",end=\" \")\n",
        "    else:\n",
        "      print(\" \",end=\" \")\n",
        "  print()"
      ],
      "metadata": {
        "colab": {
          "base_uri": "https://localhost:8080/"
        },
        "id": "i9t92lEhzebx",
        "outputId": "24a28c88-9b68-4d1a-c27a-99af79a7b93c"
      },
      "execution_count": null,
      "outputs": [
        {
          "output_type": "stream",
          "name": "stdout",
          "text": [
            "* * * * \n",
            "*     * \n",
            "*     * \n",
            "* * * * \n"
          ]
        }
      ]
    },
    {
      "cell_type": "markdown",
      "source": [
        "**Rectangle Hallow Pattern:**"
      ],
      "metadata": {
        "id": "tw75BjBW1tj-"
      }
    },
    {
      "cell_type": "code",
      "source": [
        "rows=3\n",
        "columns=5\n",
        "for i in range(rows):\n",
        "  for j in range(columns):\n",
        "    if i==0 or j==0 or i==rows-1 or j==columns-1:\n",
        "      print(\"*\",end=\" \")\n",
        "    else:\n",
        "      print(\" \",end=\" \")\n",
        "  print()"
      ],
      "metadata": {
        "colab": {
          "base_uri": "https://localhost:8080/"
        },
        "id": "lX8gbLCw1lZd",
        "outputId": "1e72b618-2af5-446e-9c83-21e44329b78f"
      },
      "execution_count": null,
      "outputs": [
        {
          "output_type": "stream",
          "name": "stdout",
          "text": [
            "* * * * * \n",
            "*       * \n",
            "* * * * * \n"
          ]
        }
      ]
    },
    {
      "cell_type": "markdown",
      "source": [
        "**Rectangle Full Hallow Pattern:**"
      ],
      "metadata": {
        "id": "qyystJZo2jr4"
      }
    },
    {
      "cell_type": "code",
      "source": [
        "r=3\n",
        "c=5\n",
        "for i in range(r):\n",
        "  for j in range(c):\n",
        "    print(\"*\",end=\" \")\n",
        "  print()"
      ],
      "metadata": {
        "colab": {
          "base_uri": "https://localhost:8080/"
        },
        "id": "lJi0HDI12w02",
        "outputId": "d58dae8c-d119-4f14-aeb6-ad6f0fb671e1"
      },
      "execution_count": null,
      "outputs": [
        {
          "output_type": "stream",
          "name": "stdout",
          "text": [
            "* * * * * \n",
            "* * * * * \n",
            "* * * * * \n"
          ]
        }
      ]
    }
  ],
  "metadata": {
    "colab": {
      "provenance": [],
      "authorship_tag": "ABX9TyO6dCyZ/s4I0zOuD8eMlm/X",
      "include_colab_link": true
    },
    "kernelspec": {
      "display_name": "Python 3",
      "name": "python3"
    },
    "language_info": {
      "name": "python"
    }
  },
  "nbformat": 4,
  "nbformat_minor": 0
}
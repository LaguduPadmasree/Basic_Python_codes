{
  "nbformat": 4,
  "nbformat_minor": 0,
  "metadata": {
    "colab": {
      "provenance": [],
      "include_colab_link": true
    },
    "kernelspec": {
      "name": "python3",
      "display_name": "Python 3"
    },
    "language_info": {
      "name": "python"
    }
  },
  "cells": [
    {
      "cell_type": "markdown",
      "metadata": {
        "id": "view-in-github",
        "colab_type": "text"
      },
      "source": [
        "<a href=\"https://colab.research.google.com/github/LaguduPadmasree/Basic_Python_codes/blob/main/Day_2.ipynb\" target=\"_parent\"><img src=\"https://colab.research.google.com/assets/colab-badge.svg\" alt=\"Open In Colab\"/></a>"
      ]
    },
    {
      "cell_type": "markdown",
      "source": [
        "Printing vowels and consonants"
      ],
      "metadata": {
        "id": "lSl6a9JL5-i_"
      }
    },
    {
      "cell_type": "code",
      "source": [
        "c=input()\n",
        "if (c=='a' or c=='e' or c=='i' or c=='o' or c=='u' or c=='A' or c=='E' or c=='I' or c=='O' or c=='U'):\n",
        "    print('Vowel')\n",
        "else:\n",
        "    print('Consonant')"
      ],
      "metadata": {
        "colab": {
          "base_uri": "https://localhost:8080/"
        },
        "id": "VSATn8Kj6FCg",
        "outputId": "4c8384a4-cb34-4050-bb2f-3b2094eadd1e"
      },
      "execution_count": null,
      "outputs": [
        {
          "output_type": "stream",
          "name": "stdout",
          "text": [
            "B\n",
            "Consonant\n"
          ]
        }
      ]
    },
    {
      "cell_type": "code",
      "source": [
        "a=input()\n",
        "v=0\n",
        "c=0\n",
        "for i in a:\n",
        "  if (i=='a' or i=='e' or i=='i' or i=='o' or i=='u' or i=='A' or i=='E' or i=='I' or i=='O' or i=='U'):\n",
        "    v+=1\n",
        "  else:\n",
        "    c+=1\n",
        "print(\"Vowels\",v)\n",
        "print(\"Consonants\",c)"
      ],
      "metadata": {
        "colab": {
          "base_uri": "https://localhost:8080/"
        },
        "id": "36jvvJ8r6e2k",
        "outputId": "37f680c0-0b70-481e-9601-492c93e8b40a"
      },
      "execution_count": 1,
      "outputs": [
        {
          "output_type": "stream",
          "name": "stdout",
          "text": [
            "padma sree\n",
            "Vowels 4\n",
            "Consonants 6\n"
          ]
        }
      ]
    },
    {
      "cell_type": "code",
      "source": [
        "a=input()\n",
        "v=\"\"\n",
        "c=\"\"\n",
        "for i in a:\n",
        "  if (i=='a' or i=='e' or i=='i' or i=='o' or i=='u' or i=='A' or i=='E' or i=='I' or i=='O' or i=='U'):\n",
        "    v+=i\n",
        "  else:\n",
        "    c+=i\n",
        "print(\"Vowels:\",v)\n",
        "print(\"Consonants:\",c)"
      ],
      "metadata": {
        "colab": {
          "base_uri": "https://localhost:8080/"
        },
        "id": "bmSgocN67rlS",
        "outputId": "8127e2d8-b972-4924-a880-aa15acdc09fd"
      },
      "execution_count": 2,
      "outputs": [
        {
          "output_type": "stream",
          "name": "stdout",
          "text": [
            "padma sree\n",
            "Vowels: aaee\n",
            "Consonants: pdm sr\n"
          ]
        }
      ]
    },
    {
      "cell_type": "markdown",
      "source": [
        "check whether a character is alphabet or not"
      ],
      "metadata": {
        "id": "UyNxt37K9C2O"
      }
    },
    {
      "cell_type": "markdown",
      "source": [
        "97-122 a-z\n",
        "65-90 A-Z"
      ],
      "metadata": {
        "id": "0Q4GVo9C_YNA"
      }
    },
    {
      "cell_type": "code",
      "source": [
        "ch=input()\n",
        "if ((ch>='a' and ch<='z') or (ch>='A' and ch<='Z')):\n",
        "  print(\"Alphabet\")\n",
        "else:\n",
        "  print(\"Not an alphabet\")"
      ],
      "metadata": {
        "colab": {
          "base_uri": "https://localhost:8080/"
        },
        "id": "PsIbCGr59KUA",
        "outputId": "701d4987-0556-4fd9-9cac-1638f7b92192"
      },
      "execution_count": null,
      "outputs": [
        {
          "output_type": "stream",
          "name": "stdout",
          "text": [
            "g\n",
            "Alphabet\n"
          ]
        }
      ]
    },
    {
      "cell_type": "markdown",
      "source": [
        "Ascii Value"
      ],
      "metadata": {
        "id": "u5-ezAgQA6Wv"
      }
    },
    {
      "cell_type": "code",
      "source": [
        "a=input()\n",
        "b=ord(a)\n",
        "print(b)"
      ],
      "metadata": {
        "colab": {
          "base_uri": "https://localhost:8080/"
        },
        "id": "dzImhSJwAn-j",
        "outputId": "8b68bac8-7a77-4378-d888-25b307395e47"
      },
      "execution_count": null,
      "outputs": [
        {
          "output_type": "stream",
          "name": "stdout",
          "text": [
            "a\n",
            "97\n"
          ]
        }
      ]
    },
    {
      "cell_type": "markdown",
      "source": [
        "Length of the string without length function"
      ],
      "metadata": {
        "id": "jNF4WzwzA9Ti"
      }
    },
    {
      "cell_type": "code",
      "source": [
        "s=input()\n",
        "c=0\n",
        "for i in s:\n",
        "  c+=1\n",
        "print(c)"
      ],
      "metadata": {
        "colab": {
          "base_uri": "https://localhost:8080/"
        },
        "id": "e5vSZJ2mBTap",
        "outputId": "9ba07fbe-c495-4209-b759-574e79c8d48a"
      },
      "execution_count": 3,
      "outputs": [
        {
          "output_type": "stream",
          "name": "stdout",
          "text": [
            "padhu\n",
            "5\n"
          ]
        }
      ]
    },
    {
      "cell_type": "markdown",
      "source": [
        "sort function"
      ],
      "metadata": {
        "id": "COSTaAIaB0N3"
      }
    },
    {
      "cell_type": "code",
      "source": [
        "a=[1,4,3,2]\n",
        "a.sort()\n",
        "print(a)"
      ],
      "metadata": {
        "colab": {
          "base_uri": "https://localhost:8080/"
        },
        "id": "26YBPExZB5Rk",
        "outputId": "7e4236b9-8af7-4575-8c6a-e4fd3c768f17"
      },
      "execution_count": null,
      "outputs": [
        {
          "output_type": "stream",
          "name": "stdout",
          "text": [
            "[1, 2, 3, 4]\n"
          ]
        }
      ]
    },
    {
      "cell_type": "markdown",
      "source": [
        "sorted function"
      ],
      "metadata": {
        "id": "dhhd2_ETB98S"
      }
    },
    {
      "cell_type": "code",
      "source": [
        "a=[1,4,3,2]\n",
        "b=sorted(a)\n",
        "print(b)"
      ],
      "metadata": {
        "colab": {
          "base_uri": "https://localhost:8080/"
        },
        "id": "6CX1cwH9COR2",
        "outputId": "f858cfcd-e694-48fb-de98-d55f7be2f512"
      },
      "execution_count": null,
      "outputs": [
        {
          "output_type": "stream",
          "name": "stdout",
          "text": [
            "[1, 2, 3, 4]\n"
          ]
        }
      ]
    },
    {
      "cell_type": "markdown",
      "source": [
        "Swapcase"
      ],
      "metadata": {
        "id": "URNPFU32CUhD"
      }
    },
    {
      "cell_type": "code",
      "source": [
        "str=input()\n",
        "print(str.swapcase())"
      ],
      "metadata": {
        "colab": {
          "base_uri": "https://localhost:8080/"
        },
        "id": "85AL8biPCWLO",
        "outputId": "847273e4-0b02-4fe6-c9d3-53882e0081a1"
      },
      "execution_count": 4,
      "outputs": [
        {
          "output_type": "stream",
          "name": "stdout",
          "text": [
            "pAdMa\n",
            "PaDmA\n"
          ]
        }
      ]
    },
    {
      "cell_type": "code",
      "source": [
        "str=input()\n",
        "str1=\"\"\n",
        "for i in str:\n",
        "  if i.isupper():\n",
        "    i=i.lower()\n",
        "    str1+=i\n",
        "  else:\n",
        "    i=i.upper()\n",
        "    str1+=i\n",
        "print(str1)"
      ],
      "metadata": {
        "colab": {
          "base_uri": "https://localhost:8080/"
        },
        "id": "IPwJPRjECjOn",
        "outputId": "52dcf3c2-2d21-4f2a-e7a7-30d35e007909"
      },
      "execution_count": 5,
      "outputs": [
        {
          "output_type": "stream",
          "name": "stdout",
          "text": [
            "padhu\n",
            "PADHU\n"
          ]
        }
      ]
    },
    {
      "cell_type": "markdown",
      "source": [
        "First and last character upper case"
      ],
      "metadata": {
        "id": "527pEOeVEAdW"
      }
    },
    {
      "cell_type": "code",
      "source": [
        "str=input()\n",
        "str1=str[0].upper()+str[1:-1]+str[-1].upper()\n",
        "print(str1)"
      ],
      "metadata": {
        "colab": {
          "base_uri": "https://localhost:8080/"
        },
        "id": "QiyjuxYWELW3",
        "outputId": "d68b1507-879e-4d9c-9107-c57df74986fb"
      },
      "execution_count": null,
      "outputs": [
        {
          "output_type": "stream",
          "name": "stdout",
          "text": [
            "code\n",
            "CodE\n"
          ]
        }
      ]
    },
    {
      "cell_type": "markdown",
      "source": [
        "Same logic for a paragraph"
      ],
      "metadata": {
        "id": "S5qvYjmfFxBU"
      }
    },
    {
      "cell_type": "code",
      "source": [
        "str=input()\n",
        "words=str.split()\n",
        "cap_words=[]\n",
        "for word in words:\n",
        "  if len(word)>1:\n",
        "    cap_word=word[0].upper()+word[1:-1]+word[-1].upper()\n",
        "  else:\n",
        "    cap_word=word.upper()\n",
        "  cap_words.append(cap_word)\n",
        "print(\" \".join(cap_words))"
      ],
      "metadata": {
        "colab": {
          "base_uri": "https://localhost:8080/"
        },
        "id": "f5QgGRPfF0dD",
        "outputId": "16d15102-e4cf-4e5d-bdb4-95c24967addb"
      },
      "execution_count": null,
      "outputs": [
        {
          "output_type": "stream",
          "name": "stdout",
          "text": [
            "crack a code\n",
            "CracK A CodE\n"
          ]
        }
      ]
    },
    {
      "cell_type": "markdown",
      "source": [
        "Reverse string"
      ],
      "metadata": {
        "id": "sNTxMDPdI7PB"
      }
    },
    {
      "cell_type": "code",
      "source": [
        "str=input()\n",
        "print(str[::-1])"
      ],
      "metadata": {
        "colab": {
          "base_uri": "https://localhost:8080/"
        },
        "id": "Y6tnYZ4pI9Rl",
        "outputId": "c06b7fb6-4991-48c0-e97b-79a764c10661"
      },
      "execution_count": 6,
      "outputs": [
        {
          "output_type": "stream",
          "name": "stdout",
          "text": [
            "padhu\n",
            "uhdap\n"
          ]
        }
      ]
    },
    {
      "cell_type": "code",
      "source": [
        "str=input()\n",
        "str1=\"\"\n",
        "for i in range(len(str)-1,-1,-1):\n",
        "  str1+=str[i]\n",
        "print(str1)"
      ],
      "metadata": {
        "colab": {
          "base_uri": "https://localhost:8080/"
        },
        "id": "UM_i7I49JCEO",
        "outputId": "5f79b91b-20ea-4c09-e9bf-ffe4f92c1bf4"
      },
      "execution_count": 7,
      "outputs": [
        {
          "output_type": "stream",
          "name": "stdout",
          "text": [
            "padhu\n",
            "uhdap\n"
          ]
        }
      ]
    },
    {
      "cell_type": "markdown",
      "source": [
        "for words"
      ],
      "metadata": {
        "id": "vdZxPrYrJWy8"
      }
    },
    {
      "cell_type": "code",
      "source": [
        "str=input()\n",
        "words=str.split()\n",
        "rev_words=words[::-1]\n",
        "print(\" \".join(rev_words))"
      ],
      "metadata": {
        "colab": {
          "base_uri": "https://localhost:8080/"
        },
        "id": "TjoqEuAuJYlB",
        "outputId": "2ce5d97c-4ef3-4dc9-ef2b-48f9c81b9512"
      },
      "execution_count": null,
      "outputs": [
        {
          "output_type": "stream",
          "name": "stdout",
          "text": [
            "crack a code\n",
            "code a crack\n"
          ]
        }
      ]
    }
  ]
}